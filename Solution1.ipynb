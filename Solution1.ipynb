{
 "cells": [
  {
   "cell_type": "code",
   "execution_count": null,
   "id": "187b841b-b983-447a-9c5d-2c4f5fd76939",
   "metadata": {},
   "outputs": [],
   "source": [
    "import torch\n",
    "import torch.nn as nn\n",
    "import torch.optim as optim\n",
    "from torchvision import datasets, transforms, models\n",
    "from torch.utils.data import DataLoader\n",
    "import pandas as pd"
   ]
  },
  {
   "cell_type": "code",
   "execution_count": null,
   "id": "f1b4d7a2-21df-418e-8f63-b0a222c13cc8",
   "metadata": {},
   "outputs": [],
   "source": [
    "\n",
    "# Define transformations for the training and testing data\n",
    "transform = transforms.Compose([\n",
    "    transforms.Resize((224, 224)),  # ResNet18 expects 224x224 input size\n",
    "    transforms.ToTensor(),\n",
    "])\n"
   ]
  },
  {
   "cell_type": "code",
   "execution_count": null,
   "id": "43c13fae-b76b-48f5-9895-28eb9e9e841c",
   "metadata": {},
   "outputs": [],
   "source": [
    "\n",
    "# Load the training and testing datasets\n",
    "train_data = datasets.ImageFolder('path_to_train_data', transform=transform)\n",
    "test_data = datasets.ImageFolder('path_to_test_data', transform=transform)\n",
    "\n",
    "train_loader = DataLoader(train_data, batch_size=32, shuffle=True)\n",
    "test_loader = DataLoader(test_data, batch_size=32, shuffle=False)\n"
   ]
  },
  {
   "cell_type": "code",
   "execution_count": null,
   "id": "8a1fb92d-b4eb-41fa-836c-03361156e7c7",
   "metadata": {},
   "outputs": [],
   "source": [
    "# Load the pre-trained ResNet18 model and modify the final layer for binary classification\n",
    "model = models.resnet18(pretrained=True)\n",
    "model.fc = nn.Linear(model.fc.in_features, 2)  # Adjust the final layer for binary classification\n"
   ]
  },
  {
   "cell_type": "code",
   "execution_count": null,
   "id": "a8680d3a-ec45-4a82-a6a4-193fee534d90",
   "metadata": {},
   "outputs": [],
   "source": [
    "# Define loss function and optimizer\n",
    "criterion = nn.CrossEntropyLoss()\n",
    "optimizer = optim.Adam(model.parameters(), lr=0.001)\n"
   ]
  },
  {
   "cell_type": "code",
   "execution_count": null,
   "id": "ed8f9a8a-c214-4acf-8951-eebec64637ec",
   "metadata": {},
   "outputs": [],
   "source": [
    "# Training the model\n",
    "num_epochs = 10\n",
    "for epoch in range(num_epochs):\n",
    "    model.train()\n",
    "    running_loss = 0.0\n",
    "    for images, labels in train_loader:\n",
    "        optimizer.zero_grad()\n",
    "        outputs = model(images)\n",
    "        loss = criterion(outputs, labels)\n",
    "        loss.backward()\n",
    "        optimizer.step()\n",
    "        running_loss += loss.item()\n",
    "    print(f\"Epoch {epoch+1}, Loss: {running_loss/len(train_loader)}\")"
   ]
  },
  {
   "cell_type": "code",
   "execution_count": null,
   "id": "4e41cb2c-f724-490f-8e7f-e705ba7488ed",
   "metadata": {},
   "outputs": [],
   "source": [
    "# Testing the model and preparing the results for the excel sheet\n",
    "model.eval()\n",
    "results = []\n",
    "with torch.no_grad():\n",
    "    for images, labels in test_loader:\n",
    "        outputs = model(images)\n",
    "        _, predicted = torch.max(outputs.data, 1)\n",
    "        for i in range(len(images)):\n",
    "            image_name = test_data.imgs[i][0].split('/')[-1]  # Extract image name from path\n",
    "            emergency_or_not = 'Yes' if predicted[i].item() == 1 else 'No'\n",
    "            results.append([image_name, emergency_or_not])"
   ]
  },
  {
   "cell_type": "code",
   "execution_count": null,
   "id": "e46742d9-2e90-4e9a-9ad0-8925811812c7",
   "metadata": {},
   "outputs": [],
   "source": [
    "# Create a DataFrame and save to an excel sheet\n",
    "df = pd.DataFrame(results, columns=['image_names', 'emergency_or_not'])\n",
    "df.to_excel('emergency_vehicle_results.xlsx', index=False)\n",
    "\n",
    "print(\"Results have been saved to emergency_vehicle_results.xlsx\")"
   ]
  }
 ],
 "metadata": {
  "kernelspec": {
   "display_name": "Python 3 (ipykernel)",
   "language": "python",
   "name": "python3"
  },
  "language_info": {
   "codemirror_mode": {
    "name": "ipython",
    "version": 3
   },
   "file_extension": ".py",
   "mimetype": "text/x-python",
   "name": "python",
   "nbconvert_exporter": "python",
   "pygments_lexer": "ipython3",
   "version": "3.12.6"
  }
 },
 "nbformat": 4,
 "nbformat_minor": 5
}
