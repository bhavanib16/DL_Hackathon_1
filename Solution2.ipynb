{
  "cells": [
    {
      "cell_type": "code",
      "source": [
        "import zipfile\n",
        "import os"
      ],
      "metadata": {
        "id": "ptw2oSZLZhX0"
      },
      "id": "ptw2oSZLZhX0",
      "execution_count": 2,
      "outputs": []
    },
    {
      "cell_type": "code",
      "source": [
        "# Extract the zip file\n",
        "# Create a directory for extraction\n",
        "extract_dir = \"/content/train\"\n",
        "os.makedirs(extract_dir, exist_ok=True)\n",
        "\n",
        "# Open and extract the zip file\n",
        "with zipfile.ZipFile(\"/content/train_SOaYf6m.zip\", 'r') as zip_ref:\n",
        "    zip_ref.extractall(extract_dir)\n",
        "\n",
        "print(f\"Contents extracted to {extract_dir}\")"
      ],
      "metadata": {
        "colab": {
          "base_uri": "https://localhost:8080/"
        },
        "id": "FGnSOuYgk4Aa",
        "outputId": "2d873d7d-4bad-43ae-8da1-269775937af0"
      },
      "id": "FGnSOuYgk4Aa",
      "execution_count": 3,
      "outputs": [
        {
          "output_type": "stream",
          "name": "stdout",
          "text": [
            "Contents extracted to /content/train\n"
          ]
        }
      ]
    },
    {
      "cell_type": "code",
      "source": [
        "# Extract the zip file\n",
        "# Create a directory for extraction\n",
        "extract_dir = \"/content/test\"\n",
        "os.makedirs(extract_dir, exist_ok=True)\n",
        "\n",
        "# Open and extract the zip file\n",
        "with zipfile.ZipFile(\"/content/test.zip\", 'r') as zip_ref:\n",
        "    zip_ref.extractall(extract_dir)\n",
        "\n",
        "print(f\"Contents extracted to {extract_dir}\")"
      ],
      "metadata": {
        "colab": {
          "base_uri": "https://localhost:8080/"
        },
        "id": "6PDiaddjmOqm",
        "outputId": "f7a50d8d-4d51-4a94-d01b-0fbbe71f97a8"
      },
      "id": "6PDiaddjmOqm",
      "execution_count": 4,
      "outputs": [
        {
          "output_type": "stream",
          "name": "stdout",
          "text": [
            "Contents extracted to /content/test\n"
          ]
        }
      ]
    },
    {
      "cell_type": "code",
      "execution_count": 5,
      "id": "187b841b-b983-447a-9c5d-2c4f5fd76939",
      "metadata": {
        "id": "187b841b-b983-447a-9c5d-2c4f5fd76939"
      },
      "outputs": [],
      "source": [
        "import torch\n",
        "import torch.nn as nn\n",
        "import torch.optim as optim\n",
        "from torchvision import datasets, transforms, models\n",
        "from torch.utils.data import DataLoader, Dataset, random_split  # Import random_split for splitting dataset\n",
        "import pandas as pd\n",
        "from PIL import Image  # Import Image from PIL\n",
        "import os"
      ]
    },
    {
      "cell_type": "code",
      "execution_count": 6,
      "id": "f1b4d7a2-21df-418e-8f63-b0a222c13cc8",
      "metadata": {
        "id": "f1b4d7a2-21df-418e-8f63-b0a222c13cc8"
      },
      "outputs": [],
      "source": [
        "# Define transformations for the training data with data augmentation\n",
        "train_transform = transforms.Compose([\n",
        "    transforms.Resize((224, 224)),\n",
        "    transforms.RandomHorizontalFlip(),\n",
        "    transforms.RandomRotation(10),\n",
        "    transforms.ToTensor(),\n",
        "])\n",
        "\n",
        "# Define transformations for the testing data\n",
        "test_transform = transforms.Compose([\n",
        "    transforms.Resize((224, 224)),\n",
        "    transforms.ToTensor(),\n",
        "])"
      ]
    },
    {
      "cell_type": "code",
      "source": [
        "# Load the training dataset with data augmentation\n",
        "train_data = datasets.ImageFolder('/content/train', transform=train_transform)\n",
        "\n",
        "# Split the training data into training and validation sets (80% train, 20% validation)\n",
        "train_size = int(0.8 * len(train_data))\n",
        "val_size = len(train_data) - train_size\n",
        "train_dataset, val_dataset = random_split(train_data, [train_size, val_size])\n",
        "\n",
        "train_loader = DataLoader(train_dataset, batch_size=32, shuffle=True)\n",
        "val_loader = DataLoader(val_dataset, batch_size=32, shuffle=False)"
      ],
      "metadata": {
        "id": "yvWCcpHAGLqH"
      },
      "id": "yvWCcpHAGLqH",
      "execution_count": 8,
      "outputs": []
    },
    {
      "cell_type": "code",
      "source": [
        "# Custom dataset for test images listed in test.csv\n",
        "class TestDataset(Dataset):\n",
        "    def __init__(self, csv_file, root_dir, transform=None):\n",
        "        self.test_df = pd.read_csv(csv_file)\n",
        "        self.root_dir = root_dir\n",
        "        self.transform = transform\n",
        "\n",
        "    def __len__(self):\n",
        "        return len(self.test_df)\n",
        "\n",
        "    def __getitem__(self, idx):\n",
        "        img_name = os.path.join(self.root_dir, self.test_df.iloc[idx, 0])\n",
        "        image = Image.open(img_name).convert('RGB')\n",
        "        if self.transform:\n",
        "            image = self.transform(image)\n",
        "        return image, img_name"
      ],
      "metadata": {
        "id": "xIZzuo95FB3G"
      },
      "id": "xIZzuo95FB3G",
      "execution_count": 9,
      "outputs": []
    },
    {
      "cell_type": "code",
      "execution_count": 11,
      "id": "43c13fae-b76b-48f5-9895-28eb9e9e841c",
      "metadata": {
        "id": "43c13fae-b76b-48f5-9895-28eb9e9e841c"
      },
      "outputs": [],
      "source": [
        "# Load the test dataset from test.csv with test_transform\n",
        "test_data = TestDataset(csv_file='/content/test/test/test.csv', root_dir='/content/test/test/images', transform=test_transform)\n",
        "test_loader = DataLoader(test_data, batch_size=32, shuffle=False)\n",
        "\n"
      ]
    },
    {
      "cell_type": "code",
      "execution_count": 12,
      "id": "8a1fb92d-b4eb-41fa-836c-03361156e7c7",
      "metadata": {
        "id": "8a1fb92d-b4eb-41fa-836c-03361156e7c7",
        "colab": {
          "base_uri": "https://localhost:8080/"
        },
        "outputId": "a17b2cee-46ca-42cb-f563-7ae566e44230"
      },
      "outputs": [
        {
          "output_type": "stream",
          "name": "stderr",
          "text": [
            "/usr/local/lib/python3.10/dist-packages/torchvision/models/_utils.py:208: UserWarning: The parameter 'pretrained' is deprecated since 0.13 and may be removed in the future, please use 'weights' instead.\n",
            "  warnings.warn(\n",
            "/usr/local/lib/python3.10/dist-packages/torchvision/models/_utils.py:223: UserWarning: Arguments other than a weight enum or `None` for 'weights' are deprecated since 0.13 and may be removed in the future. The current behavior is equivalent to passing `weights=ResNet18_Weights.IMAGENET1K_V1`. You can also use `weights=ResNet18_Weights.DEFAULT` to get the most up-to-date weights.\n",
            "  warnings.warn(msg)\n",
            "Downloading: \"https://download.pytorch.org/models/resnet18-f37072fd.pth\" to /root/.cache/torch/hub/checkpoints/resnet18-f37072fd.pth\n",
            "100%|██████████| 44.7M/44.7M [00:00<00:00, 125MB/s]\n"
          ]
        }
      ],
      "source": [
        "# Load the pre-trained ResNet18 model and modify the final layer for binary classification\n",
        "model = models.resnet18(pretrained=True)\n",
        "model.fc = nn.Linear(model.fc.in_features, 2)  # Adjust the final layer for binary classification\n"
      ]
    },
    {
      "cell_type": "code",
      "execution_count": 13,
      "id": "a8680d3a-ec45-4a82-a6a4-193fee534d90",
      "metadata": {
        "id": "a8680d3a-ec45-4a82-a6a4-193fee534d90"
      },
      "outputs": [],
      "source": [
        "# Define loss function and optimizer\n",
        "criterion = nn.CrossEntropyLoss()\n",
        "optimizer = optim.Adam(model.parameters(), lr=0.001)\n"
      ]
    },
    {
      "cell_type": "code",
      "execution_count": null,
      "id": "ed8f9a8a-c214-4acf-8951-eebec64637ec",
      "metadata": {
        "id": "ed8f9a8a-c214-4acf-8951-eebec64637ec"
      },
      "outputs": [],
      "source": [
        "# Training the model with validation\n",
        "num_epochs = 5\n",
        "for epoch in range(num_epochs):\n",
        "    model.train()\n",
        "    running_loss = 0.0\n",
        "    for images, labels in train_loader:\n",
        "        optimizer.zero_grad()\n",
        "        outputs = model(images)\n",
        "        loss = criterion(outputs, labels)\n",
        "        loss.backward()\n",
        "        optimizer.step()\n",
        "        running_loss += loss.item()\n",
        "    print(f\"Epoch {epoch+1}, Loss: {running_loss/len(train_loader)}\")\n",
        "\n",
        "    # Validate the model\n",
        "    model.eval()\n",
        "    val_loss = 0.0\n",
        "    correct = 0\n",
        "    total = 0\n",
        "    with torch.no_grad():\n",
        "        for images, labels in val_loader:\n",
        "            outputs = model(images)\n",
        "            loss = criterion(outputs, labels)\n",
        "            val_loss += loss.item()\n",
        "            _, predicted = torch.max(outputs.data, 1)\n",
        "            total += labels.size(0)\n",
        "            correct += (predicted == labels).sum().item()\n",
        "\n",
        "    accuracy = correct / total * 100\n",
        "    print(f\"Validation Loss: {val_loss/len(val_loader)}, Accuracy: {accuracy}%\")"
      ]
    },
    {
      "cell_type": "code",
      "source": [],
      "metadata": {
        "id": "-w0lgRiFBodk"
      },
      "id": "-w0lgRiFBodk",
      "execution_count": null,
      "outputs": []
    },
    {
      "cell_type": "code",
      "execution_count": null,
      "id": "4e41cb2c-f724-490f-8e7f-e705ba7488ed",
      "metadata": {
        "id": "4e41cb2c-f724-490f-8e7f-e705ba7488ed"
      },
      "outputs": [],
      "source": [
        "# Testing the model and preparing the results for the csv file\n",
        "model.eval()\n",
        "results = []\n",
        "with torch.no_grad():\n",
        "    for images, img_names in test_loader:\n",
        "        outputs = model(images)\n",
        "        _, predicted = torch.max(outputs.data, 1)\n",
        "        for i in range(len(images)):\n",
        "            image_name = img_names[i].split('/')[-1]  # Extract image name from path\n",
        "            emergency_or_not = 1 if predicted[i].item() == 1 else 0\n",
        "            results.append([image_name, emergency_or_not])"
      ]
    },
    {
      "cell_type": "code",
      "execution_count": null,
      "id": "e46742d9-2e90-4e9a-9ad0-8925811812c7",
      "metadata": {
        "id": "e46742d9-2e90-4e9a-9ad0-8925811812c7",
        "colab": {
          "base_uri": "https://localhost:8080/"
        },
        "outputId": "d78498d3-1184-4406-c623-20e602cd535e"
      },
      "outputs": [
        {
          "output_type": "stream",
          "name": "stdout",
          "text": [
            "Results have been saved to emergency_vehicle_results.csv\n"
          ]
        }
      ],
      "source": [
        "# Create a DataFrame and save to a csv file\n",
        "df = pd.DataFrame(results, columns=['image_names', 'emergency_or_not'])\n",
        "df.to_csv('emergency_vehicle_results.csv', index=False)\n",
        "\n",
        "print(\"Results have been saved to emergency_vehicle_results.csv\")"
      ]
    },
    {
      "cell_type": "code",
      "source": [],
      "metadata": {
        "id": "Rz5E9vu-k2zS"
      },
      "id": "Rz5E9vu-k2zS",
      "execution_count": null,
      "outputs": []
    }
  ],
  "metadata": {
    "kernelspec": {
      "display_name": "Python 3",
      "name": "python3"
    },
    "language_info": {
      "codemirror_mode": {
        "name": "ipython",
        "version": 3
      },
      "file_extension": ".py",
      "mimetype": "text/x-python",
      "name": "python",
      "nbconvert_exporter": "python",
      "pygments_lexer": "ipython3",
      "version": "3.12.6"
    },
    "colab": {
      "provenance": [],
      "gpuType": "T4"
    },
    "accelerator": "GPU"
  },
  "nbformat": 4,
  "nbformat_minor": 5
}